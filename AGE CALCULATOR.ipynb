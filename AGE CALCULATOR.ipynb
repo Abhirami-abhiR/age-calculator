{
 "cells": [
  {
   "cell_type": "code",
   "execution_count": null,
   "id": "26fd1985-3bf0-4e21-9d73-f8ee55377d8e",
   "metadata": {},
   "outputs": [],
   "source": [
    "from datetime import date\n",
    "\n",
    "def calculate_age(birth_date, current_date):\n",
    "    age_years = current_date.year - birth_date.year\n",
    "    age_months = current_date.month - birth_date.month\n",
    "    age_days = current_date.day - birth_date.day\n",
    "\n",
    "    if age_days < 0:\n",
    "        age_months -= 1\n",
    "        age_days += (date(current_date.year, current_date.month, 1) - date(current_date.year, current_date.month - 1, 1)).days\n",
    "\n",
    "    if age_months < 0:\n",
    "        age_years -= 1\n",
    "        age_months += 12\n",
    "\n",
    "    print(f\"Age is: {age_years} years, {age_months} months, {age_days} days\")\n",
    "\n",
    "if __name__ == \"__main__\":\n",
    "    print(\"Date format: dd/mm/yyyy\")\n",
    "    day1, month1, year1 = input(\"Enter your Date of Birth: \").split('/')\n",
    "    day2, month2, year2 = input(\"Enter present day: \").split('/')\n",
    "    \n",
    "    date1 = date(int(year1), int(month1), int(day1))\n",
    "    date2 = date(int(year2), int(month2), int(day2))\n",
    "    \n",
    "    calculate_age(date1, date2)\n"
   ]
  }
 ],
 "metadata": {
  "kernelspec": {
   "display_name": "Python [conda env:base] *",
   "language": "python",
   "name": "conda-base-py"
  },
  "language_info": {
   "codemirror_mode": {
    "name": "ipython",
    "version": 3
   },
   "file_extension": ".py",
   "mimetype": "text/x-python",
   "name": "python",
   "nbconvert_exporter": "python",
   "pygments_lexer": "ipython3",
   "version": "3.12.7"
  }
 },
 "nbformat": 4,
 "nbformat_minor": 5
}
